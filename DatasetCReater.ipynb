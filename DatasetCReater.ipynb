{
 "cells": [
  {
   "cell_type": "markdown",
   "id": "b00809cc",
   "metadata": {},
   "source": [
    "# Create 2000 Rows of dataset manually "
   ]
  },
  {
   "cell_type": "code",
   "execution_count": 1,
   "id": "ad991dda",
   "metadata": {},
   "outputs": [
    {
     "name": "stdout",
     "output_type": "stream",
     "text": [
      "✅ CSV saved as returns_data.csv\n",
      "   resale_value   price  weight     category return_reason      label\n",
      "0        193.59  353.39    6.39         Home         Other   drop_off\n",
      "1         77.55  257.48    6.41  Electronics     Defective   drop_off\n",
      "2         68.19  201.44    1.14       Beauty  Changed mind    keep_it\n",
      "3        109.55  238.26    4.89         Home     Defective   drop_off\n",
      "4        241.85  429.49    4.30     Clothing         Other  mail_back\n"
     ]
    }
   ],
   "source": [
    "import pandas as pd\n",
    "import numpy as np\n",
    "\n",
    "np.random.seed(42)\n",
    "\n",
    "rows = []\n",
    "n_rows = 2000\n",
    "\n",
    "for _ in range(n_rows):\n",
    "    # pick which label to create\n",
    "    label = np.random.choice([\"keep_it\", \"drop_off\", \"mail_back\"], p=[0.1, 0.5, 0.4])\n",
    "    \n",
    "    if label == \"keep_it\":\n",
    "        resale_value = np.random.uniform(10, 70)          # lower resale\n",
    "        price = resale_value + np.random.uniform(50, 150)\n",
    "        weight = np.random.uniform(0.1, 5.0)\n",
    "        category = np.random.choice([\"Clothing\", \"Beauty\"])\n",
    "        reason = np.random.choice([\"Size issue\", \"Changed mind\"])\n",
    "        \n",
    "    elif label == \"drop_off\":\n",
    "        resale_value = np.random.uniform(70, 200)\n",
    "        price = resale_value + np.random.uniform(50, 200)\n",
    "        weight = np.random.uniform(1.0, 10.0)\n",
    "        category = np.random.choice([\"Home\", \"Electronics\"])\n",
    "        reason = np.random.choice([\"Defective\", \"Other\"])\n",
    "        \n",
    "    elif label == \"mail_back\":\n",
    "        resale_value = np.random.uniform(200, 500)\n",
    "        price = resale_value + np.random.uniform(100, 400)\n",
    "        weight = np.random.uniform(1.0, 10.0)\n",
    "        category = np.random.choice([\"Electronics\", \"Clothing\"])\n",
    "        reason = np.random.choice([\"Defective\", \"Other\"])\n",
    "        \n",
    "    rows.append([\n",
    "        round(resale_value, 2),\n",
    "        round(price, 2),\n",
    "        round(weight, 2),\n",
    "        category,\n",
    "        reason,\n",
    "        label\n",
    "    ])\n",
    "\n",
    "# create dataframe\n",
    "df = pd.DataFrame(rows, columns=[\n",
    "    \"resale_value\", \"price\", \"weight\",\n",
    "    \"category\", \"return_reason\", \"label\"\n",
    "])\n",
    "\n",
    "# save to CSV\n",
    "df.to_csv(\"returns_data.csv\", index=False)\n",
    "\n",
    "print(\"✅ CSV saved as returns_data.csv\")\n",
    "print(df.head())\n"
   ]
  },
  {
   "cell_type": "code",
   "execution_count": null,
   "id": "988a30ca",
   "metadata": {},
   "outputs": [],
   "source": []
  },
  {
   "cell_type": "markdown",
   "id": "d7c0b8bb",
   "metadata": {},
   "source": [
    " # Generate Synthetic Data for  === \"refurbish\", \"liquidate\", \"recycle\", \"keep_it\", \"donate\""
   ]
  },
  {
   "cell_type": "code",
   "execution_count": null,
   "id": "b10cd00c",
   "metadata": {},
   "outputs": [
    {
     "name": "stdout",
     "output_type": "stream",
     "text": [
      "✅ Synthetic CSV saved.\n"
     ]
    },
    {
     "ename": "",
     "evalue": "",
     "output_type": "error",
     "traceback": [
      "\u001b[1;31mThe Kernel crashed while executing code in the current cell or a previous cell. \n",
      "\u001b[1;31mPlease review the code in the cell(s) to identify a possible cause of the failure. \n",
      "\u001b[1;31mClick <a href='https://aka.ms/vscodeJupyterKernelCrash'>here</a> for more info. \n",
      "\u001b[1;31mView Jupyter <a href='command:jupyter.viewOutput'>log</a> for further details."
     ]
    }
   ],
   "source": [
    "# Generate synthetic dataset with random lat/lon\n",
    "\n",
    "import pandas as pd\n",
    "import numpy as np\n",
    "n = 2000\n",
    "\n",
    "data = pd.DataFrame({\n",
    "    \"sku_id\": [f\"PRD-{i}\" for i in range(n)],\n",
    "    \"category\": np.random.choice([\"Electronics\", \"Beauty\", \"Kitchen\", \"Apparel\"], n),\n",
    "    \"original_price\": np.random.randint(500, 30000, n),\n",
    "    \"condition_grade\": np.random.choice([\"A\", \"B\", \"C\", \"D\"], n),\n",
    "    \"return_reason_code\": np.random.choice([\"01\", \"02\", \"03\", \"04\"], n),\n",
    "    \"estimated_refurb_cost\": np.random.randint(50, 5000, n),\n",
    "    \"resale_value_estimated\": np.random.randint(100, 25000, n),\n",
    "    \"inbound_shipping_cost\": np.random.randint(20, 500, n),\n",
    "    \"hazardous_goods_flag\": np.random.choice([\"Yes\", \"No\"], n),\n",
    "    \"co2_saved_refurb_vs_landfill\": np.random.uniform(0.1, 5.0, n),\n",
    "    \"final_decision\": np.random.choice(\n",
    "        [\"refurbish\", \"liquidate\", \"recycle\", \"keep_it\", \"donate\"],\n",
    "        n\n",
    "    ),\n",
    "    \"customer_latitude\": np.random.uniform(8, 37, n),\n",
    "    \"customer_longitude\": np.random.uniform(68, 97, n)\n",
    "})\n",
    "\n",
    "data.to_csv(\"synthetic_returns_data.csv\", index=False)\n",
    "print(\"✅ Synthetic CSV saved.\")\n"
   ]
  },
  {
   "cell_type": "code",
   "execution_count": null,
   "id": "b110c791",
   "metadata": {},
   "outputs": [],
   "source": []
  },
  {
   "cell_type": "code",
   "execution_count": null,
   "id": "0027bbf7",
   "metadata": {},
   "outputs": [],
   "source": []
  },
  {
   "cell_type": "code",
   "execution_count": null,
   "id": "9b6f2a23",
   "metadata": {},
   "outputs": [],
   "source": []
  },
  {
   "cell_type": "code",
   "execution_count": null,
   "id": "13703eb1",
   "metadata": {},
   "outputs": [],
   "source": []
  },
  {
   "cell_type": "code",
   "execution_count": null,
   "id": "accef380",
   "metadata": {},
   "outputs": [],
   "source": []
  },
  {
   "cell_type": "code",
   "execution_count": null,
   "id": "8e82bf57",
   "metadata": {},
   "outputs": [],
   "source": []
  },
  {
   "cell_type": "code",
   "execution_count": null,
   "id": "4be9a545",
   "metadata": {},
   "outputs": [],
   "source": []
  },
  {
   "cell_type": "code",
   "execution_count": null,
   "id": "b6f6adf8",
   "metadata": {},
   "outputs": [],
   "source": []
  },
  {
   "cell_type": "code",
   "execution_count": null,
   "id": "2713ffbd",
   "metadata": {},
   "outputs": [],
   "source": []
  }
 ],
 "metadata": {
  "kernelspec": {
   "display_name": "base",
   "language": "python",
   "name": "python3"
  },
  "language_info": {
   "codemirror_mode": {
    "name": "ipython",
    "version": 3
   },
   "file_extension": ".py",
   "mimetype": "text/x-python",
   "name": "python",
   "nbconvert_exporter": "python",
   "pygments_lexer": "ipython3",
   "version": "3.12.7"
  }
 },
 "nbformat": 4,
 "nbformat_minor": 5
}
